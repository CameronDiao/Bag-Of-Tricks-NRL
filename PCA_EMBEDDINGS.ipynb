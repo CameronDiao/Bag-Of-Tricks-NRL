{
 "cells": [
  {
   "cell_type": "code",
   "execution_count": 1,
   "id": "5a6c7055",
   "metadata": {},
   "outputs": [],
   "source": [
    "import torch\n",
    "from ogb.nodeproppred import PygNodePropPredDataset\n",
    "from torch_geometric import loader\n",
    "\n",
    "dataset = PygNodePropPredDataset(name = \"ogbn-products\", root = 'dataset/')\n",
    " \n",
    "split_idx = dataset.get_idx_split()\n",
    "data = dataset[0]\n",
    "\n",
    "# Convert split indices to boolean masks and add them to `data`.\n",
    "for key, idx in split_idx.items():\n",
    "    mask = torch.zeros(data.num_nodes, dtype=torch.bool)\n",
    "    mask[idx] = True\n",
    "    data[f'{key}_mask'] = mask\n",
    "    "
   ]
  },
  {
   "cell_type": "code",
   "execution_count": 2,
   "id": "6a7f1e26",
   "metadata": {},
   "outputs": [
    {
     "name": "stderr",
     "output_type": "stream",
     "text": [
      "Computing METIS partitioning...\n",
      "Done!\n"
     ]
    }
   ],
   "source": [
    "import random\n",
    "import copy\n",
    "import torch\n",
    "from torch_geometric import loader\n",
    "from torch_geometric.data import Data\n",
    "\n",
    "from sklearn.decomposition import PCA\n",
    "\n",
    "cluster_data = loader.ClusterData(data, num_parts=1000, recursive=False)\n",
    "\n",
    "iter_num = 1\n",
    "with torch.no_grad():\n",
    "    for cl in cluster_data:\n",
    "        print(\"ISOMAP UPDATES: ITERATION \" + str(iter_num))\n",
    "        pca = PCA(n_components=75)\n",
    "        cl.x = torch.from_numpy(pca.fit_transform(cl.x))\n",
    "        iter_num += 1\n",
    "\n",
    "op_dict = {}\n",
    "op_dict['embedding'] = cluster_data.data.x\n",
    "op_dict['label'] = cluster_data.data.y\n",
    "op_dict['train_idx'] = cluster_data.data.train_mask\n",
    "op_dict['valid_idx'] = cluster_data.data.valid_mask\n",
    "op_dict['test_idx'] = cluster_data.data.test_mask\n",
    "\n",
    "torch.save(op_dict, '{}.pt'.format(\"PCA_EMBEDDINGS\"))"
   ]
  },
  {
   "cell_type": "code",
   "execution_count": null,
   "id": "616536ea",
   "metadata": {},
   "outputs": [],
   "source": []
  }
 ],
 "metadata": {
  "kernelspec": {
   "display_name": "Python 3 (ipykernel)",
   "language": "python",
   "name": "python3"
  },
  "language_info": {
   "codemirror_mode": {
    "name": "ipython",
    "version": 3
   },
   "file_extension": ".py",
   "mimetype": "text/x-python",
   "name": "python",
   "nbconvert_exporter": "python",
   "pygments_lexer": "ipython3",
   "version": "3.9.7"
  }
 },
 "nbformat": 4,
 "nbformat_minor": 5
}

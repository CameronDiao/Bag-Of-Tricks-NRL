{
 "cells": [
  {
   "cell_type": "code",
   "execution_count": 1,
   "id": "c765474d",
   "metadata": {},
   "outputs": [],
   "source": [
    "import torch\n",
    "from ogb.nodeproppred import PygNodePropPredDataset\n",
    "from torch_geometric import loader\n",
    "\n",
    "dataset = PygNodePropPredDataset(name = \"ogbn-products\", root = 'dataset/')\n",
    " \n",
    "split_idx = dataset.get_idx_split()\n",
    "data = dataset[0]\n",
    "\n",
    "# Convert split indices to boolean masks and add them to `data`.\n",
    "for key, idx in split_idx.items():\n",
    "    mask = torch.zeros(data.num_nodes, dtype=torch.bool)\n",
    "    mask[idx] = True\n",
    "    data[f'{key}_mask'] = mask\n",
    "    "
   ]
  },
  {
   "cell_type": "code",
   "execution_count": 2,
   "id": "767fe07c",
   "metadata": {},
   "outputs": [],
   "source": [
    "\n",
    "def get_adj(row, col, N, asymm_norm=False, set_diag=True, remove_diag=False):\n",
    "    \n",
    "    adj = SparseTensor(row=row, col=col, sparse_sizes=(N, N))\n",
    "    if set_diag:\n",
    "        print('... setting diagonal entries')\n",
    "        adj = adj.set_diag()\n",
    "    elif remove_diag:\n",
    "        print('... removing diagonal entries')\n",
    "        adj = adj.remove_diag()\n",
    "    else:\n",
    "        print('... keeping diag elements as they are')\n",
    "    if not asymm_norm:\n",
    "        print('... performing symmetric normalization')\n",
    "        deg = adj.sum(dim=1).to(torch.float)\n",
    "        deg_inv_sqrt = deg.pow(-0.5)\n",
    "        deg_inv_sqrt[deg_inv_sqrt == float('inf')] = 0\n",
    "        adj = deg_inv_sqrt.view(-1, 1) * adj * deg_inv_sqrt.view(1, -1)\n",
    "    else:\n",
    "        print('... performing asymmetric normalization')\n",
    "        deg = adj.sum(dim=1).to(torch.float)\n",
    "        deg_inv = deg.pow(-1.0)\n",
    "        deg_inv[deg_inv == float('inf')] = 0\n",
    "        adj = deg_inv.view(-1, 1) * adj\n",
    "\n",
    "    adj = adj.to_scipy(layout='csr')\n",
    "    \n",
    "    return adj"
   ]
  },
  {
   "cell_type": "code",
   "execution_count": 3,
   "id": "d1d71d41",
   "metadata": {},
   "outputs": [
    {
     "name": "stdout",
     "output_type": "stream",
     "text": [
      "Start processing\n"
     ]
    }
   ],
   "source": [
    "\n",
    "import torch\n",
    "import torch.nn.functional as F\n",
    "from torch_sparse import SparseTensor\n",
    "from torch_geometric.utils import to_undirected, dropout_adj\n",
    "\n",
    "\n",
    "x = data.x.numpy()\n",
    "N = data.num_nodes\n",
    "\n",
    "train_idx, valid_idx, test_idx = split_idx['train'], split_idx['valid'], split_idx['test']\n",
    "all_idx = torch.cat([train_idx, valid_idx, test_idx])\n",
    "mapped_train_idx = torch.arange(len(train_idx))\n",
    "mapped_valid_idx = torch.arange(len(train_idx), len(train_idx) + len(valid_idx))\n",
    "mapped_test_idx = torch.arange(len(train_idx) + len(valid_idx), len(train_idx) + len(valid_idx) + len(test_idx))\n",
    "\n",
    "op_dict = {}\n",
    "op_dict['label'] = data.y.data[all_idx].to(torch.long)\n",
    "op_dict['split_idx'] = {'train': mapped_train_idx, 'valid': mapped_valid_idx, 'test': mapped_test_idx}\n",
    "\n",
    "op_dict['op_embedding'] = []\n",
    "op_dict['op_embedding'].append(torch.from_numpy(x[all_idx]).to(torch.float))\n",
    "\n",
    "print('Start processing')"
   ]
  },
  {
   "cell_type": "code",
   "execution_count": 4,
   "id": "d9f2054b",
   "metadata": {},
   "outputs": [
    {
     "name": "stdout",
     "output_type": "stream",
     "text": [
      "Preparing undirected operators...\n",
      "Subsampling (dropping 40.0 %)\n",
      "Making the graph undirected\n",
      "Getting adj matrix\n",
      "... setting diagonal entries\n",
      "... performing symmetric normalization\n",
      "Diffusing node features\n"
     ]
    }
   ],
   "source": [
    "print('Preparing undirected operators...')\n",
    "# subsample operator\n",
    "print('Subsampling (dropping {} %)'.format(100 * 0.4))\n",
    "edge_index, _ = dropout_adj(data.edge_index, p=0.3, num_nodes=data.num_nodes)\n",
    "\n",
    "# to undirected\n",
    "print('Making the graph undirected') \n",
    "edge_index = to_undirected(edge_index, data.num_nodes)\n",
    "row, col = edge_index\n",
    "\n",
    "# get adj\n",
    "print('Getting adj matrix')\n",
    "adj = get_adj(row, col, N)\n",
    "\n",
    "# preprocessing of features\n",
    "print('Diffusing node features')\n",
    "x = data.x.numpy()\n",
    "for _ in range(5):\n",
    "    x = adj @ x\n",
    "    op_dict['op_embedding'].append(torch.from_numpy(x[all_idx]).to(torch.float))\n",
    "\n",
    "torch.save(op_dict, '{}.pt'.format(\"BASELINE_SIGN\"))\n"
   ]
  },
  {
   "cell_type": "code",
   "execution_count": null,
   "id": "b63190eb",
   "metadata": {},
   "outputs": [],
   "source": []
  }
 ],
 "metadata": {
  "kernelspec": {
   "display_name": "Python 3 (ipykernel)",
   "language": "python",
   "name": "python3"
  },
  "language_info": {
   "codemirror_mode": {
    "name": "ipython",
    "version": 3
   },
   "file_extension": ".py",
   "mimetype": "text/x-python",
   "name": "python",
   "nbconvert_exporter": "python",
   "pygments_lexer": "ipython3",
   "version": "3.9.7"
  }
 },
 "nbformat": 4,
 "nbformat_minor": 5
}

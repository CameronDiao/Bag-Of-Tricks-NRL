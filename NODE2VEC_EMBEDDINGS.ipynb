{
 "cells": [
  {
   "cell_type": "code",
   "execution_count": null,
   "id": "721d35a0",
   "metadata": {},
   "outputs": [],
   "source": [
    "import torch\n",
    "from ogb.nodeproppred import PygNodePropPredDataset\n",
    "from torch_geometric import loader\n",
    "\n",
    "dataset = PygNodePropPredDataset(name = \"ogbn-products\", root = 'dataset/')\n",
    " \n",
    "split_idx = dataset.get_idx_split()\n",
    "data = dataset[0]\n",
    "\n",
    "# Convert split indices to boolean masks and add them to `data`.\n",
    "for key, idx in split_idx.items():\n",
    "    mask = torch.zeros(data.num_nodes, dtype=torch.bool)\n",
    "    mask[idx] = True\n",
    "    data[f'{key}_mask'] = mask\n",
    "    "
   ]
  },
  {
   "cell_type": "code",
   "execution_count": null,
   "id": "a7495789",
   "metadata": {},
   "outputs": [],
   "source": [
    "import torch\n",
    "from torch_geometric import loader\n",
    "from torch_geometric.data import Data\n",
    "from torch_geometric.nn import Node2Vec\n",
    "\n",
    "def node2vec(data, walk_length, context_size, walks_per_node)\n",
    "    device = 'cuda' if torch.cuda.is_available() else 'cpu'\n",
    "    device = torch.device(device)\n",
    "\n",
    "    dataset = PygNodePropPredDataset(name='ogbn-products')\n",
    "    data = dataset[0]\n",
    "\n",
    "    model = Node2Vec(data.edge_index, 100, walk_length, context_size, walks_per_node, sparse=True).to(device)\n",
    "\n",
    "    loader = model.loader(batch_size=256, shuffle=True,\n",
    "                          num_workers=4)\n",
    "    optimizer = torch.optim.SparseAdam(list(model.parameters()), lr=0.01)\n",
    "\n",
    "    model.train()\n",
    "    for epoch in range(1, 2):\n",
    "        for i, (pos_rw, neg_rw) in enumerate(loader):\n",
    "            optimizer.zero_grad()\n",
    "            loss = model.loss(pos_rw.to(device), neg_rw.to(device))\n",
    "            loss.backward()\n",
    "            optimizer.step()\n",
    "\n",
    "            print(f'Epoch: {epoch:02d}, Step: {i+1:03d}/{len(loader)}, '\n",
    "                  f'Loss: {loss:.4f}')\n",
    "\n",
    "    return model.embedding.weight.data.cpu()\n"
   ]
  },
  {
   "cell_type": "code",
   "execution_count": null,
   "id": "8a7a4ec7",
   "metadata": {},
   "outputs": [],
   "source": [
    "cluster_data = loader.ClusterData(data, num_parts=1000, recursive=False)\n",
    "\n",
    "# rp = GaussianRandomProjection(n_components=dataset.num_features)\n",
    "# cluster_data.data.x = torch.from_numpy(rp.fit_transform(cluster_data.data.x))\n",
    "\n",
    "with torch.no_grad():\n",
    "    for cl in cluster_data:\n",
    "#         labels = torch.squeeze(cl.y).clone().detach()\n",
    "#         labels[cl.valid_mask] = -1\n",
    "#         labels[cl.test_mask] = -1\n",
    "        cl.x = node2vec(cl.x, 40, 20 10)\n",
    "\n",
    "op_dict = {}\n",
    "op_dict['embedding'] = cluster_data.data.x\n",
    "op_dict['label'] = cluster_data.data.y.to(torch.long)\n",
    "op_dict['train_idx'] = cluster_data.data.train_mask\n",
    "op_dict['valid_idx'] = cluster_data.data.valid_mask\n",
    "op_dict['test_idx'] = cluster_data.data.test_mask\n",
    "\n",
    "torch.save(op_dict, '{}.pt'.format(\"NODE2VEC_EMBEDDINGS\"))"
   ]
  }
 ],
 "metadata": {
  "kernelspec": {
   "display_name": "Python 3 (ipykernel)",
   "language": "python",
   "name": "python3"
  },
  "language_info": {
   "codemirror_mode": {
    "name": "ipython",
    "version": 3
   },
   "file_extension": ".py",
   "mimetype": "text/x-python",
   "name": "python",
   "nbconvert_exporter": "python",
   "pygments_lexer": "ipython3",
   "version": "3.9.7"
  }
 },
 "nbformat": 4,
 "nbformat_minor": 5
}

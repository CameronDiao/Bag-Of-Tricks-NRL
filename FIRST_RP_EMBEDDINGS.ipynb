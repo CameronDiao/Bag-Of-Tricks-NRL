{
 "cells": [
  {
   "cell_type": "code",
   "execution_count": 1,
   "id": "4c6af313",
   "metadata": {},
   "outputs": [
    {
     "name": "stderr",
     "output_type": "stream",
     "text": [
      "Computing METIS partitioning...\n",
      "Done!\n"
     ]
    }
   ],
   "source": [
    "import torch\n",
    "from ogb.nodeproppred import PygNodePropPredDataset\n",
    "from torch_geometric import loader\n",
    "\n",
    "dataset = PygNodePropPredDataset(name = \"ogbn-products\", root = 'dataset/')\n",
    " \n",
    "split_idx = dataset.get_idx_split()\n",
    "data = dataset[0]\n",
    "\n",
    "# Convert split indices to boolean masks and add them to `data`.\n",
    "for key, idx in split_idx.items():\n",
    "    mask = torch.zeros(data.num_nodes, dtype=torch.bool)\n",
    "    mask[idx] = True\n",
    "    data[f'{key}_mask'] = mask\n",
    "    \n",
    "cluster_data = loader.ClusterData(data, num_parts=15000, recursive=False)"
   ]
  },
  {
   "cell_type": "code",
   "execution_count": 2,
   "id": "08535870",
   "metadata": {},
   "outputs": [],
   "source": [
    "import random\n",
    "import torch\n",
    "from torch_geometric import loader\n",
    "\n",
    "from sklearn.random_projection import GaussianRandomProjection\n",
    "\n",
    "# rp = GaussianRandomProjection(n_components=dataset.num_features)\n",
    "# cluster_data.data.x = torch.from_numpy(rp.fit_transform(cluster_data.data.x))\n",
    "\n",
    "with torch.no_grad():\n",
    "    for cl in cluster_data:\n",
    "#         labels = torch.squeeze(cl.y).clone().detach()\n",
    "#         labels[cl.valid_mask] = -1\n",
    "#         labels[cl.test_mask] = -1\n",
    "        rp = GaussianRandomProjection(n_components=dataset.num_features)\n",
    "        cl.x = torch.from_numpy(rp.fit_transform(cl.x))\n",
    "    row, col, edge_attr = cluster_data.data.adj.t().coo()\n"
   ]
  },
  {
   "cell_type": "code",
   "execution_count": 3,
   "id": "81275066",
   "metadata": {},
   "outputs": [],
   "source": [
    "def get_adj(row, col, N, asymm_norm=False, set_diag=True, remove_diag=False):\n",
    "    \n",
    "    adj = SparseTensor(row=row, col=col, sparse_sizes=(N, N))\n",
    "    if set_diag:\n",
    "        print('... setting diagonal entries')\n",
    "        adj = adj.set_diag()\n",
    "    elif remove_diag:\n",
    "        print('... removing diagonal entries')\n",
    "        adj = adj.remove_diag()\n",
    "    else:\n",
    "        print('... keeping diag elements as they are')\n",
    "    if not asymm_norm:\n",
    "        print('... performing symmetric normalization')\n",
    "        deg = adj.sum(dim=1).to(torch.float)\n",
    "        deg_inv_sqrt = deg.pow(-0.5)\n",
    "        deg_inv_sqrt[deg_inv_sqrt == float('inf')] = 0\n",
    "        adj = deg_inv_sqrt.view(-1, 1) * adj * deg_inv_sqrt.view(1, -1)\n",
    "    else:\n",
    "        print('... performing asymmetric normalization')\n",
    "        deg = adj.sum(dim=1).to(torch.float)\n",
    "        deg_inv = deg.pow(-1.0)\n",
    "        deg_inv[deg_inv == float('inf')] = 0\n",
    "        adj = deg_inv.view(-1, 1) * adj\n",
    "\n",
    "    adj = adj.to_scipy(layout='csr')\n",
    "    \n",
    "    return adj\n"
   ]
  },
  {
   "cell_type": "code",
   "execution_count": 4,
   "id": "7ba0105f",
   "metadata": {},
   "outputs": [
    {
     "name": "stdout",
     "output_type": "stream",
     "text": [
      "Start processing\n",
      "Getting adj matrix\n",
      "... setting diagonal entries\n",
      "... performing symmetric normalization\n",
      "Diffusing node features\n"
     ]
    }
   ],
   "source": [
    "import torch\n",
    "import torch.nn.functional as F\n",
    "from torch_sparse import SparseTensor\n",
    "from torch_geometric.utils import to_undirected, dropout_adj\n",
    "\n",
    "op_dict = {}\n",
    "op_dict['label'] = cluster_data.data.y.data.to(torch.long)\n",
    "op_dict['train_idx'] = cluster_data.data.train_mask\n",
    "op_dict['valid_idx'] = cluster_data.data.valid_mask\n",
    "op_dict['test_idx'] =  cluster_data.data.test_mask\n",
    "\n",
    "x = cluster_data.data.x.numpy()\n",
    "N = data.num_nodes\n",
    "\n",
    "print('Start processing')\n",
    "\n",
    "# print('Preparing undirected operators...')\n",
    "# edge_index, _ = dropout_adj(data.edge_index, p=0.4, num_nodes=data.num_nodes)\n",
    "\n",
    "# # to undirected\n",
    "# print('Making the graph undirected')\n",
    "# edge_index = to_undirected(edge_index, data.num_nodes)\n",
    "# row, col = edge_index\n",
    "\n",
    "# get adj\n",
    "print('Getting adj matrix')\n",
    "row, col, edge_attr = cluster_data.data.adj.t().coo()\n",
    "adj = get_adj(row, col, N)\n",
    "\n",
    "# preprocessing of features\n",
    "print('Diffusing node features')\n",
    "for _ in range(3):\n",
    "    x = adj @ x\n",
    "\n",
    "op_dict['embedding'] = torch.from_numpy(x).to(torch.float)\n",
    "    \n",
    "torch.save(op_dict, '{}.pt'.format(\"FIRST_RP_CLUSTER\"))\n"
   ]
  },
  {
   "cell_type": "code",
   "execution_count": null,
   "id": "21e81402",
   "metadata": {},
   "outputs": [],
   "source": []
  }
 ],
 "metadata": {
  "kernelspec": {
   "display_name": "Python 3 (ipykernel)",
   "language": "python",
   "name": "python3"
  },
  "language_info": {
   "codemirror_mode": {
    "name": "ipython",
    "version": 3
   },
   "file_extension": ".py",
   "mimetype": "text/x-python",
   "name": "python",
   "nbconvert_exporter": "python",
   "pygments_lexer": "ipython3",
   "version": "3.9.7"
  }
 },
 "nbformat": 4,
 "nbformat_minor": 5
}
